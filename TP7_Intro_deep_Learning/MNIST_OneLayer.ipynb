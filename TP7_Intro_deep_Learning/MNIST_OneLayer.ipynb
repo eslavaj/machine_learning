{
 "cells": [
  {
   "cell_type": "code",
   "execution_count": 1,
   "metadata": {},
   "outputs": [
    {
     "name": "stderr",
     "output_type": "stream",
     "text": [
      "Using TensorFlow backend.\n"
     ]
    }
   ],
   "source": [
    "from keras.datasets import mnist"
   ]
  },
  {
   "cell_type": "code",
   "execution_count": 2,
   "metadata": {},
   "outputs": [],
   "source": [
    "# the data, shuffled and split between train and test sets\n",
    "(X_train, y_train), (X_test, y_test) = mnist.load_data()"
   ]
  },
  {
   "cell_type": "code",
   "execution_count": 3,
   "metadata": {},
   "outputs": [],
   "source": [
    "# Reshape each 28x28 image -> 784 dim. vector\n",
    "X_train = X_train.reshape(60000, 784)\n",
    "X_test = X_test.reshape(10000, 784)\n",
    "X_train = X_train.astype('float32')\n",
    "X_test = X_test.astype('float32')"
   ]
  },
  {
   "cell_type": "code",
   "execution_count": 4,
   "metadata": {},
   "outputs": [
    {
     "name": "stdout",
     "output_type": "stream",
     "text": [
      "60000 train samples\n",
      "10000 test samples\n"
     ]
    }
   ],
   "source": [
    "# Normalization\n",
    "X_train /= 255\n",
    "X_test /= 255\n",
    "print(X_train.shape[0], 'train samples')\n",
    "print(X_test.shape[0], 'test samples')"
   ]
  },
  {
   "cell_type": "code",
   "execution_count": 5,
   "metadata": {},
   "outputs": [],
   "source": [
    "# Display some images\n",
    "import matplotlib as mpl\n",
    "mpl.use('TKAgg')\n",
    "import matplotlib.pyplot as plt\n",
    "\n",
    "plt.figure(figsize=(7.195, 3.841), dpi=100)\n",
    "for i in range(200):\n",
    "    plt.subplot(10,20,i+1)\n",
    "    plt.imshow(X_train[i,:].reshape([28,28]), cmap='gray')\n",
    "    plt.axis('off')\n",
    "plt.show()"
   ]
  },
  {
   "cell_type": "code",
   "execution_count": 6,
   "metadata": {},
   "outputs": [
    {
     "data": {
      "text/plain": [
       "(784,)"
      ]
     },
     "execution_count": 6,
     "metadata": {},
     "output_type": "execute_result"
    }
   ],
   "source": [
    "X_train[0,:].shape"
   ]
  },
  {
   "cell_type": "code",
   "execution_count": 7,
   "metadata": {},
   "outputs": [],
   "source": [
    "# Logistic regression implementation"
   ]
  },
  {
   "cell_type": "code",
   "execution_count": 8,
   "metadata": {},
   "outputs": [],
   "source": [
    "from keras.utils import np_utils\n",
    "K=10\n",
    "# convert class vectors to binary class matrices\n",
    "Y_train = np_utils.to_categorical(y_train, K)\n",
    "Y_test = np_utils.to_categorical(y_test, K)"
   ]
  },
  {
   "cell_type": "code",
   "execution_count": 70,
   "metadata": {},
   "outputs": [],
   "source": [
    "def softmax(X):\n",
    "    # Input matrix X of size Nbxd - Output matrix of same size\n",
    "    E = np.exp(X)\n",
    "    return (E.T / np.sum(E,axis=1)).T"
   ]
  },
  {
   "cell_type": "code",
   "execution_count": 115,
   "metadata": {},
   "outputs": [],
   "source": [
    "def forward(X_in, W, b):\n",
    "    #batch_size = X_in.shape[0]\n",
    "    #K = X_in.shape[1]\n",
    "    #print(b.shape)\n",
    "    #print(np.matmul(X_in,W).shape)\n",
    "    S_act = np.matmul(X_in,W) + b\n",
    "    \n",
    "    y_out = softmax(S_act)\n",
    "    return y_out, S_act"
   ]
  },
  {
   "cell_type": "code",
   "execution_count": 116,
   "metadata": {},
   "outputs": [],
   "source": [
    "def backward(X_out, y_in, y_est):\n",
    "    batch_size = X_out.shape[0]\n",
    "    #print(y_est.shape)\n",
    "    #print(y_in.shape)\n",
    "    gradW = (1/batch_size)*np.matmul(X_out.T, y_est - y_in)\n",
    "    gradb = (1/batch_size)*np.sum((y_est - y_in), axis=0)\n",
    "    return gradW, gradb"
   ]
  },
  {
   "cell_type": "code",
   "execution_count": 117,
   "metadata": {},
   "outputs": [],
   "source": [
    "def update_params(W, b, gradW, gradb, learning_rate):\n",
    "    W = W - learning_rate*gradW\n",
    "    b = b - learning_rate*gradb\n",
    "    return W, b"
   ]
  },
  {
   "cell_type": "code",
   "execution_count": 118,
   "metadata": {},
   "outputs": [],
   "source": [
    "import numpy as np\n",
    "N = X_train.shape[0]\n",
    "d = X_train.shape[1]\n",
    "W = np.zeros((d,K))\n",
    "b = np.zeros((1,K))\n",
    "numEp = 20 # Number of epochs for gradient descent\n",
    "eta = 1e-1 # Learning rate\n",
    "batch_size = 100\n",
    "nb_batches = int(float(N) / batch_size)\n",
    "gradW = np.zeros((d,K))\n",
    "gradb = np.zeros((1,K))\n",
    "\n",
    "for epoch in range(numEp):\n",
    "    for ex in range(nb_batches):\n",
    "        X_tmp = X_train[ex*batch_size:(ex+1)*batch_size , :]\n",
    "        y_tmp = Y_train[ex*batch_size:(ex+1)*batch_size]\n",
    "        # FORWARD PASS : compute prediction with current params for examples in batch        \n",
    "        y_est, S_act  = forward(X_tmp, W, b)  \n",
    "    \n",
    "        # BACKWARD PASS :\n",
    "        # 1) compute gradients for W and b\n",
    "        gradW, gradb = backward(X_tmp, y_tmp, y_est)\n",
    "        # 2) update W and b parameters with gradient descent\n",
    "        W,b = update_params(W, b, gradW, gradb, eta)"
   ]
  },
  {
   "cell_type": "code",
   "execution_count": 119,
   "metadata": {},
   "outputs": [],
   "source": [
    "def accuracy(W, b, images, labels):\n",
    "    pred, ttt = forward(images, W,b )\n",
    "    return np.where( pred.argmax(axis=1) != labels.argmax(axis=1) , 0.,1.).mean()*100.0"
   ]
  },
  {
   "cell_type": "code",
   "execution_count": 120,
   "metadata": {},
   "outputs": [
    {
     "data": {
      "text/plain": [
       "92.24"
      ]
     },
     "execution_count": 120,
     "metadata": {},
     "output_type": "execute_result"
    }
   ],
   "source": [
    "accuracy(W, b, X_test, Y_test)"
   ]
  },
  {
   "cell_type": "code",
   "execution_count": null,
   "metadata": {},
   "outputs": [],
   "source": []
  }
 ],
 "metadata": {
  "kernelspec": {
   "display_name": "Python 3",
   "language": "python",
   "name": "python3"
  },
  "language_info": {
   "codemirror_mode": {
    "name": "ipython",
    "version": 3
   },
   "file_extension": ".py",
   "mimetype": "text/x-python",
   "name": "python",
   "nbconvert_exporter": "python",
   "pygments_lexer": "ipython3",
   "version": "3.7.4"
  }
 },
 "nbformat": 4,
 "nbformat_minor": 2
}
